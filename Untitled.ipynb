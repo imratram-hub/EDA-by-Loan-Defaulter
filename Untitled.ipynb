{
 "cells": [
  {
   "cell_type": "code",
   "execution_count": 1,
   "id": "6c178427-34b8-4fb6-aa0e-ae178141e15f",
   "metadata": {},
   "outputs": [],
   "source": [
    "# Data import and basic exploration"
   ]
  },
  {
   "cell_type": "code",
   "execution_count": null,
   "id": "0c49cab5-7624-42c4-9f0b-e1cd7428562e",
   "metadata": {},
   "outputs": [],
   "source": [
    "import pandas as pd\n",
    "import numpy as np\n",
    "import matplotlib.pyplot as plt\n",
    "import seaborn as sns"
   ]
  },
  {
   "cell_type": "code",
   "execution_count": null,
   "id": "c4f2c735-88d2-4ea0-baab-899e9ec706f9",
   "metadata": {},
   "outputs": [],
   "source": [
    "pd.options.display.max_columns = None\n",
    "pd.options.display.max_rows = None"
   ]
  },
  {
   "cell_type": "code",
   "execution_count": null,
   "id": "68e088cb-1c2c-4973-b7d7-c3a031a96d3d",
   "metadata": {},
   "outputs": [],
   "source": [
    "app = pd.read_csv(r\"D:\\python\\archive\\application_data.csv\")\n",
    "prev_app = pd.read_csv(r\"D:\\python\\archive\\previous_application.csv\")"
   ]
  },
  {
   "cell_type": "code",
   "execution_count": null,
   "id": "3f688cbc-9786-4851-9965-9d0bd91b92c3",
   "metadata": {},
   "outputs": [],
   "source": [
    "app.head()"
   ]
  },
  {
   "cell_type": "code",
   "execution_count": null,
   "id": "0af0f9c3-5f13-459b-927b-b85365987dfc",
   "metadata": {},
   "outputs": [],
   "source": [
    "# Feature selection"
   ]
  },
  {
   "cell_type": "code",
   "execution_count": null,
   "id": "35f2dd5e-4495-4017-8671-2f36430aeb19",
   "metadata": {},
   "outputs": [],
   "source": [
    "app.columns"
   ]
  },
  {
   "cell_type": "code",
   "execution_count": null,
   "id": "8979692c-0822-4867-a5af-52f65e864d26",
   "metadata": {},
   "outputs": [],
   "source": [
    "app.shape"
   ]
  },
  {
   "cell_type": "code",
   "execution_count": null,
   "id": "c03dbae0-cf07-42ea-afb4-d45cda7f39f5",
   "metadata": {},
   "outputs": [],
   "source": [
    "msng_info = pd.DataFrame(app.isnull().sum().sort_values()).reset_index()\n",
    "msng_info.rename(columns={'index':'col_name',0:'null_count'},inplace=True)\n",
    "msng_info.head()"
   ]
  },
  {
   "cell_type": "code",
   "execution_count": null,
   "id": "c29da91d-2160-4ea4-951d-bb95805696c4",
   "metadata": {},
   "outputs": [],
   "source": [
    "msng_info['msng_pct'] = msng_info['null_count']/app.shape[0]*100\n",
    "# msng_info.to_excel(r\"D:\\Learnerea\\Tables\\loan_default_data\\missing_info.xlsx\",index=False)\n",
    "msng_info.head()"
   ]
  },
  {
   "cell_type": "code",
   "execution_count": null,
   "id": "54674865-b707-4f95-ab71-e8fd02c92c4f",
   "metadata": {},
   "outputs": [],
   "source": [
    "msng_col = msng_info[msng_info['msng_pct']>=40]['col_name'].to_list()\n",
    "app_msng_rmvd = app.drop(labels=msng_col,axis=1)\n",
    "app_msng_rmvd.shape"
   ]
  },
  {
   "cell_type": "code",
   "execution_count": null,
   "id": "a48bb824-39f4-41b7-afc7-b4d5aae590d3",
   "metadata": {},
   "outputs": [],
   "source": [
    "app_msng_rmvd.head()"
   ]
  },
  {
   "cell_type": "code",
   "execution_count": null,
   "id": "e4aa4de6-dbf5-4b76-a535-60036c1d7766",
   "metadata": {},
   "outputs": [],
   "source": [
    "flag_col = []\n",
    "\n",
    "for col in app_msng_rmvd.columns:\n",
    "    if col.startswith(\"FLAG_\"):\n",
    "        flag_col.append(col)\n",
    "        \n",
    "len(flag_col)"
   ]
  },
  {
   "cell_type": "code",
   "execution_count": null,
   "id": "868a7a03-2051-4a65-998e-5023a120777b",
   "metadata": {},
   "outputs": [],
   "source": [
    "flag_col"
   ]
  },
  {
   "cell_type": "code",
   "execution_count": null,
   "id": "01b58b09-3ac8-4e4a-8a6a-a00103e7bb87",
   "metadata": {},
   "outputs": [],
   "source": [
    "flag_tgt_col = app_msng_rmvd[flag_col+['TARGET']]\n",
    "flag_tgt_col.head()"
   ]
  },
  {
   "cell_type": "code",
   "execution_count": null,
   "id": "4dd248a7-c027-47d2-b440-b3dc910a446b",
   "metadata": {},
   "outputs": [],
   "source": [
    "plt.figure(figsize=(20,25))\n",
    "\n",
    "for i, col in enumerate(flag_col):\n",
    "    plt.subplot(7,4,i+1)\n",
    "    sns.countplot(data=flag_tgt_col,x=col,hue='TARGET')"
   ]
  },
  {
   "cell_type": "code",
   "execution_count": null,
   "id": "e22293d2-fa8b-46a9-b15d-e2df99a7a224",
   "metadata": {},
   "outputs": [],
   "source": [
    "flg_corr = ['FLAG_OWN_CAR', 'FLAG_OWN_REALTY', 'FLAG_MOBIL', 'FLAG_EMP_PHONE', 'FLAG_WORK_PHONE', 'FLAG_CONT_MOBILE',\n",
    "     'FLAG_PHONE', 'FLAG_EMAIL','TARGET']\n",
    "flag_corr_df = app_msng_rmvd[flg_corr]"
   ]
  },
  {
   "cell_type": "code",
   "execution_count": null,
   "id": "f5da38c1-f5a7-42ec-95e6-278249e370fc",
   "metadata": {},
   "outputs": [],
   "source": [
    "flag_corr_df.groupby(['FLAG_OWN_CAR']).size()"
   ]
  },
  {
   "cell_type": "code",
   "execution_count": null,
   "id": "51bf1e4d-db37-4318-83e0-9637acab6624",
   "metadata": {},
   "outputs": [],
   "source": [
    "flag_corr_df['FLAG_OWN_CAR'] = flag_corr_df['FLAG_OWN_CAR'].replace({'N':0,'Y':1})\n",
    "flag_corr_df['FLAG_OWN_REALTY'] = flag_corr_df['FLAG_OWN_REALTY'].replace({'N':0,'Y':1})\n",
    "\n",
    "flag_corr_df.groupby(['FLAG_OWN_CAR']).size()"
   ]
  },
  {
   "cell_type": "code",
   "execution_count": null,
   "id": "a99e6891-ad17-405b-9b2c-59019dace485",
   "metadata": {},
   "outputs": [],
   "source": [
    "corr_df = round(flag_corr_df.corr(),2)\n",
    "\n",
    "plt.figure(figsize=(10,5))\n",
    "sns.heatmap(corr_df,cmap='coolwarm',linewidths=.5,annot=True)\n"
   ]
  },
  {
   "cell_type": "code",
   "execution_count": null,
   "id": "80c44580-ac08-4059-b4ca-10c0c8ad500c",
   "metadata": {},
   "outputs": [],
   "source": [
    "app_flag_rmvd = app_msng_rmvd.drop(labels =flag_col,axis=1)\n",
    "app_flag_rmvd.shape"
   ]
  },
  {
   "cell_type": "code",
   "execution_count": null,
   "id": "9c6f5587-f0d6-4b6a-879f-aede7a3de3cd",
   "metadata": {},
   "outputs": [],
   "source": [
    "sns.heatmap(data=round(app_flag_rmvd[['EXT_SOURCE_2','EXT_SOURCE_3','TARGET']].corr(),2),cmap='coolwarm',linewidths=.5,annot=True)\n"
   ]
  },
  {
   "cell_type": "code",
   "execution_count": null,
   "id": "7cdd391e-de22-405f-8b06-64b8c9a17270",
   "metadata": {},
   "outputs": [],
   "source": [
    "app_score_col_rmvd = app_flag_rmvd.drop(['EXT_SOURCE_2','EXT_SOURCE_3'],axis=1)\n",
    "app_score_col_rmvd.shape"
   ]
  },
  {
   "cell_type": "code",
   "execution_count": null,
   "id": "6ce2ca87-cb6b-4f52-b04b-6f01b8668c5d",
   "metadata": {},
   "outputs": [],
   "source": [
    "# Feature engineering"
   ]
  },
  {
   "cell_type": "code",
   "execution_count": null,
   "id": "e71bccd3-301c-445e-b862-ee89c80fe82f",
   "metadata": {},
   "outputs": [],
   "source": [
    "app_score_col_rmvd.isnull().sum().sort_values()/app_score_col_rmvd.shape[0]"
   ]
  },
  {
   "cell_type": "code",
   "execution_count": null,
   "id": "ada32d5f-ecc1-44d1-b53f-a7ae20335401",
   "metadata": {},
   "outputs": [],
   "source": [
    "# Missing imputation"
   ]
  },
  {
   "cell_type": "code",
   "execution_count": null,
   "id": "ebb31e0b-7743-4680-942f-7ef509e4d57b",
   "metadata": {},
   "outputs": [],
   "source": [
    "app_score_col_rmvd['CNT_FAM_MEMBERS'] = app_score_col_rmvd['CNT_FAM_MEMBERS'].fillna((app_score_col_rmvd['CNT_FAM_MEMBERS'].mode()[0]))"
   ]
  },
  {
   "cell_type": "code",
   "execution_count": null,
   "id": "3f349aac-b331-47bb-994a-0f3c2dcad191",
   "metadata": {},
   "outputs": [],
   "source": [
    "app_score_col_rmvd['CNT_FAM_MEMBERS'].isnull().sum()"
   ]
  },
  {
   "cell_type": "code",
   "execution_count": null,
   "id": "4e57a7f5-ad5a-4786-a7cc-2bf3dd173260",
   "metadata": {},
   "outputs": [],
   "source": [
    "app_score_col_rmvd['OCCUPATION_TYPE'] = app_score_col_rmvd['OCCUPATION_TYPE'].fillna((app_score_col_rmvd['OCCUPATION_TYPE'].mode()[0]))\n",
    "# app_score_col_rmvd['OCCUPATION_TYPE'].mode()[0]"
   ]
  },
  {
   "cell_type": "code",
   "execution_count": null,
   "id": "88628a4e-392e-4964-bb90-f45042997d49",
   "metadata": {},
   "outputs": [],
   "source": [
    "app_score_col_rmvd['OCCUPATION_TYPE'].isnull().sum()"
   ]
  },
  {
   "cell_type": "code",
   "execution_count": null,
   "id": "1ddc20d7-4df8-44dd-b09e-46e0c291a061",
   "metadata": {},
   "outputs": [],
   "source": [
    "app_score_col_rmvd['NAME_TYPE_SUITE'] = app_score_col_rmvd['NAME_TYPE_SUITE'].fillna((app_score_col_rmvd['NAME_TYPE_SUITE'].mode()[0]))"
   ]
  },
  {
   "cell_type": "code",
   "execution_count": null,
   "id": "3d22e36e-082a-4ca5-839d-8d371e9cb029",
   "metadata": {},
   "outputs": [],
   "source": [
    "app_score_col_rmvd['NAME_TYPE_SUITE'].isnull().sum()"
   ]
  },
  {
   "cell_type": "code",
   "execution_count": null,
   "id": "a364e2df-5746-41fe-b8f3-5c231e75262d",
   "metadata": {},
   "outputs": [],
   "source": [
    "app_score_col_rmvd['AMT_ANNUITY'] = app_score_col_rmvd['AMT_ANNUITY'].fillna((app_score_col_rmvd['AMT_ANNUITY'].mean()))"
   ]
  },
  {
   "cell_type": "code",
   "execution_count": null,
   "id": "f3cd0abb-346b-403a-ad8b-8d9ffda0fc80",
   "metadata": {},
   "outputs": [],
   "source": [
    "app_score_col_rmvd['AMT_ANNUITY'].isnull().sum()"
   ]
  },
  {
   "cell_type": "code",
   "execution_count": null,
   "id": "cd9eccf7-e03a-41e7-adb1-8ea4ee9d941d",
   "metadata": {},
   "outputs": [],
   "source": [
    "# app_score_col_rmvd['AMT_REQ_CREDIT_BUREAU_HOUR']"
   ]
  },
  {
   "cell_type": "code",
   "execution_count": null,
   "id": "cfd88033-aad0-488d-9634-d0a67f2aeca4",
   "metadata": {},
   "outputs": [],
   "source": [
    "amt_req_col = []\n",
    "\n",
    "for col in app_score_col_rmvd.columns:\n",
    "    if col.startswith(\"AMT_REQ_CREDIT_BUREAU\"):\n",
    "        amt_req_col.append(col)\n",
    "\n",
    "amt_req_col\n",
    "# app_score_col_rmvd['AMT_REQ_CREDIT_BUREAU_HOUR'].unique()"
   ]
  },
  {
   "cell_type": "code",
   "execution_count": null,
   "id": "2268536a-157c-42c3-987b-fd05be35a8da",
   "metadata": {},
   "outputs": [],
   "source": [
    "for col in amt_req_col:\n",
    "    app_score_col_rmvd[col] = app_score_col_rmvd[col].fillna((app_score_col_rmvd[col].median()))"
   ]
  },
  {
   "cell_type": "code",
   "execution_count": null,
   "id": "45e39996-3b9a-4d78-ac8f-4d734d3829f2",
   "metadata": {},
   "outputs": [],
   "source": [
    "# app_score_col_rmvd.isnull().sum().sort_values()"
   ]
  },
  {
   "cell_type": "code",
   "execution_count": null,
   "id": "fbb7c4c6-a200-4a9b-8c73-3f481fee851b",
   "metadata": {},
   "outputs": [],
   "source": [
    "app_score_col_rmvd['AMT_GOODS_PRICE'] = app_score_col_rmvd['AMT_GOODS_PRICE'].fillna((app_score_col_rmvd['AMT_GOODS_PRICE'].median()))"
   ]
  },
  {
   "cell_type": "code",
   "execution_count": null,
   "id": "baaa56a0-c529-4059-b94e-d434afabd915",
   "metadata": {},
   "outputs": [],
   "source": [
    "app_score_col_rmvd['AMT_GOODS_PRICE'].isnull().sum()"
   ]
  },
  {
   "cell_type": "code",
   "execution_count": null,
   "id": "5ef38398-4cdb-443b-9970-e91878158002",
   "metadata": {},
   "outputs": [],
   "source": [
    "app_score_col_rmvd.head()"
   ]
  },
  {
   "cell_type": "code",
   "execution_count": null,
   "id": "91fac02d-5c36-43e6-ac05-9f6dbf0514b8",
   "metadata": {},
   "outputs": [],
   "source": [
    "# Value modifiction"
   ]
  },
  {
   "cell_type": "code",
   "execution_count": null,
   "id": "23fee988-1230-41b9-bcab-b920ac584847",
   "metadata": {},
   "outputs": [],
   "source": [
    "days_col = []\n",
    "\n",
    "for col in app_score_col_rmvd.columns:\n",
    "    if col.startswith(\"DAYS\"):\n",
    "        days_col.append(col)\n",
    "\n",
    "days_col"
   ]
  },
  {
   "cell_type": "code",
   "execution_count": null,
   "id": "2cc027f0-5446-47b1-b13a-587cb9eefff4",
   "metadata": {},
   "outputs": [],
   "source": [
    "for col in days_col:\n",
    "    app_score_col_rmvd[col] = abs(app_score_col_rmvd[col])"
   ]
  },
  {
   "cell_type": "code",
   "execution_count": null,
   "id": "8606d0ee-c8c4-41db-9d50-12687c8969b9",
   "metadata": {},
   "outputs": [],
   "source": [
    "app_score_col_rmvd.head()"
   ]
  },
  {
   "cell_type": "code",
   "execution_count": null,
   "id": "2af3cefe-ec15-4d3d-9092-cfa5aebf283a",
   "metadata": {},
   "outputs": [],
   "source": [
    "app_score_col_rmvd.nunique().sort_values()"
   ]
  },
  {
   "cell_type": "code",
   "execution_count": null,
   "id": "a1ce0d82-b5cc-4f31-b733-7d8643c911db",
   "metadata": {},
   "outputs": [],
   "source": [
    "app_score_col_rmvd['OBS_30_CNT_SOCIAL_CIRCLE'].unique()"
   ]
  },
  {
   "cell_type": "code",
   "execution_count": null,
   "id": "f6c542ea-d21e-44a0-8429-ef0b95d2423f",
   "metadata": {},
   "outputs": [],
   "source": [
    "# Outlier detection & treatment"
   ]
  },
  {
   "cell_type": "code",
   "execution_count": null,
   "id": "a81befbe-f337-48f0-82e7-34539be261d9",
   "metadata": {},
   "outputs": [],
   "source": [
    "app_score_col_rmvd['AMT_GOODS_PRICE'].agg(['min','max','median'])"
   ]
  },
  {
   "cell_type": "code",
   "execution_count": null,
   "id": "3da2bb1b-f11e-435a-bbc8-50438fe38d81",
   "metadata": {},
   "outputs": [],
   "source": [
    "sns.kdeplot(data=app_score_col_rmvd,x='AMT_GOODS_PRICE')"
   ]
  },
  {
   "cell_type": "code",
   "execution_count": null,
   "id": "cb90a48a-2b4b-437e-8e68-0a3f5eb1049d",
   "metadata": {},
   "outputs": [],
   "source": [
    "sns.boxenplot(data=app_score_col_rmvd,x='AMT_GOODS_PRICE')"
   ]
  },
  {
   "cell_type": "code",
   "execution_count": null,
   "id": "6aa8e943-005b-4252-96f9-2403ba06a775",
   "metadata": {},
   "outputs": [],
   "source": [
    "app_score_col_rmvd['AMT_GOODS_PRICE'].quantile([0.1,0.2,0.3,0.4,0.5,0.6,0.7,0.8,0.9,0.99])"
   ]
  },
  {
   "cell_type": "code",
   "execution_count": null,
   "id": "daadbe65-a713-496b-b48a-9a3d69cff2af",
   "metadata": {},
   "outputs": [],
   "source": [
    "bins = [0,100000,200000,300000,400000,500000,600000,700000,800000,900000,4050000]\n",
    "ranges = ['0-100K','100k-200K','200K-300K','300K-400K','400K-500K','500K-600K','600K-700K'\n",
    "          ,'700K-800K','800K-900K','Above 900K']\n",
    "\n",
    "app_score_col_rmvd['AMT_GOODS_PRICE_RANGE'] = pd.cut(app_score_col_rmvd['AMT_GOODS_PRICE'],bins,labels=ranges)"
   ]
  },
  {
   "cell_type": "code",
   "execution_count": null,
   "id": "ec92489b-a0a5-431d-85db-1751dbca6587",
   "metadata": {},
   "outputs": [],
   "source": [
    "app_score_col_rmvd.groupby(['AMT_GOODS_PRICE_RANGE']).size()"
   ]
  },
  {
   "cell_type": "code",
   "execution_count": null,
   "id": "521b17bc-c97c-4faa-80cf-249c11ff03d0",
   "metadata": {},
   "outputs": [],
   "source": [
    "app_score_col_rmvd['AMT_INCOME_TOTAL'].quantile([0.1,0.2,0.3,0.4,0.5,0.6,0.7,0.8,0.9,0.99])"
   ]
  },
  {
   "cell_type": "code",
   "execution_count": null,
   "id": "a6a8bd94-c134-44f8-8cd7-da0a37a4403a",
   "metadata": {},
   "outputs": [],
   "source": [
    "app_score_col_rmvd['AMT_INCOME_TOTAL'].max()"
   ]
  },
  {
   "cell_type": "code",
   "execution_count": null,
   "id": "e22ee961-5e8c-458b-be6b-ed4d0e0f17f3",
   "metadata": {},
   "outputs": [],
   "source": [
    "bins = [0,100000,150000,200000,250000,300000,350000,400000,117000000]\n",
    "ranges = ['0-100K','100K-150K','150K-200K','200K-250K','250K-300K','300K-350K','350K-400K'\n",
    "          ,'Above 400K']\n",
    "\n",
    "app_score_col_rmvd['AMT_INCOME_TOTAL_RANGE'] = pd.cut(app_score_col_rmvd['AMT_INCOME_TOTAL'],bins,labels=ranges)"
   ]
  },
  {
   "cell_type": "code",
   "execution_count": null,
   "id": "0cd031e6-f0c3-4736-87d5-ca23ba19f178",
   "metadata": {},
   "outputs": [],
   "source": [
    "app_score_col_rmvd.groupby(['AMT_INCOME_TOTAL_RANGE']).size()"
   ]
  },
  {
   "cell_type": "code",
   "execution_count": null,
   "id": "b912f07d-53ac-4e12-ab2a-f28646c8749a",
   "metadata": {},
   "outputs": [],
   "source": [
    "app_score_col_rmvd['AMT_INCOME_TOTAL_RANGE'].isnull().sum()"
   ]
  },
  {
   "cell_type": "code",
   "execution_count": null,
   "id": "dfa768fd-b4fa-4808-9caf-9933792c7196",
   "metadata": {},
   "outputs": [],
   "source": [
    "app_score_col_rmvd['AMT_CREDIT'].quantile([0.1,0.2,0.3,0.4,0.5,0.6,0.7,0.8,0.9,0.99])"
   ]
  },
  {
   "cell_type": "code",
   "execution_count": null,
   "id": "c6b5fdf7-d583-4ca8-9283-7eb107df1fa9",
   "metadata": {},
   "outputs": [],
   "source": [
    "app_score_col_rmvd['AMT_CREDIT'].max()"
   ]
  },
  {
   "cell_type": "code",
   "execution_count": null,
   "id": "37639edb-df6a-4139-80ba-0c17f48c03b2",
   "metadata": {},
   "outputs": [],
   "source": [
    "bins = [0,200000,400000,600000,800000,900000,1000000,2000000,3000000,4050000]\n",
    "ranges = ['0-200K','200K-400K','400K-600K','600K-800K','800K-900K','900K-1M','1M-2M','2M-3M','Above 3M']\n",
    "\n",
    "app_score_col_rmvd['AMT_CREDIT_RANGE'] = pd.cut(app_score_col_rmvd['AMT_CREDIT'],bins,labels=ranges)"
   ]
  },
  {
   "cell_type": "code",
   "execution_count": null,
   "id": "a20554ea-d382-43f9-a789-4ca67f7de174",
   "metadata": {},
   "outputs": [],
   "source": [
    "app_score_col_rmvd.groupby(['AMT_CREDIT_RANGE']).size()"
   ]
  },
  {
   "cell_type": "code",
   "execution_count": null,
   "id": "82a08ab6-31cc-4f53-a3d9-598bd1eb9af7",
   "metadata": {},
   "outputs": [],
   "source": [
    "app_score_col_rmvd['AMT_CREDIT'].isnull().sum()"
   ]
  },
  {
   "cell_type": "code",
   "execution_count": null,
   "id": "27b35d83-fecc-4256-a51d-94ce12a192fa",
   "metadata": {},
   "outputs": [],
   "source": [
    "app_score_col_rmvd['AMT_ANNUITY'].quantile([0.1,0.2,0.3,0.4,0.5,0.6,0.7,0.8,0.9,0.99])"
   ]
  },
  {
   "cell_type": "code",
   "execution_count": null,
   "id": "cef60a2c-bb4a-49ab-8ba2-433e4804d7fc",
   "metadata": {},
   "outputs": [],
   "source": [
    "app_score_col_rmvd['AMT_ANNUITY'].max()"
   ]
  },
  {
   "cell_type": "code",
   "execution_count": null,
   "id": "fcaf6bbe-0cb0-452e-88e8-2f08cf6522a2",
   "metadata": {},
   "outputs": [],
   "source": [
    "bins = [0,25000,50000,100000,150000,200000,258025.5]\n",
    "ranges = ['0-25K','25K-50K','50K-100K','100K-150K','150K-200K','Above 200K']\n",
    "\n",
    "app_score_col_rmvd['AMT_ANNUITY_RANGE'] = pd.cut(app_score_col_rmvd['AMT_ANNUITY'],bins,labels=ranges)"
   ]
  },
  {
   "cell_type": "code",
   "execution_count": null,
   "id": "97508534-1853-43b8-91e3-4f82c36ca792",
   "metadata": {},
   "outputs": [],
   "source": [
    "app_score_col_rmvd.groupby(['AMT_ANNUITY_RANGE']).size()"
   ]
  },
  {
   "cell_type": "code",
   "execution_count": null,
   "id": "2df72622-4817-4444-87e7-faae5a7bcc3f",
   "metadata": {},
   "outputs": [],
   "source": [
    "app_score_col_rmvd['AMT_ANNUITY_RANGE'].isnull().sum()"
   ]
  },
  {
   "cell_type": "code",
   "execution_count": null,
   "id": "fd41ca11-d742-4958-a27e-cbfca3277cec",
   "metadata": {},
   "outputs": [],
   "source": [
    "app_score_col_rmvd['DAYS_EMPLOYED'].agg(['min','max','median'])"
   ]
  },
  {
   "cell_type": "code",
   "execution_count": null,
   "id": "2221e674-5c79-4d2f-9fc3-2bc080f7ec60",
   "metadata": {},
   "outputs": [],
   "source": [
    "app_score_col_rmvd['DAYS_EMPLOYED'].quantile([0.1,0.2,0.3,0.4,0.5,0.6,0.7,0.8,0.81,0.85,0.9,0.95,0.99])"
   ]
  },
  {
   "cell_type": "code",
   "execution_count": null,
   "id": "c24f7988-da8b-4ee2-830a-baee7aa95b37",
   "metadata": {},
   "outputs": [],
   "source": [
    "app_score_col_rmvd[app_score_col_rmvd['DAYS_EMPLOYED']<app_score_col_rmvd['DAYS_EMPLOYED'].max()].max()['DAYS_EMPLOYED']"
   ]
  },
  {
   "cell_type": "code",
   "execution_count": null,
   "id": "a68a35b1-7c5b-401f-9fe3-9ba663d9e35d",
   "metadata": {},
   "outputs": [],
   "source": [
    "app_score_col_rmvd['DAYS_EMPLOYED'].max()"
   ]
  },
  {
   "cell_type": "code",
   "execution_count": null,
   "id": "f005af4f-1290-4062-8700-071fcd8c423c",
   "metadata": {},
   "outputs": [],
   "source": [
    "bins = [0,1825,3650,5475,7300,9125,10950,12775,14600,16425,18250,23691,365243]\n",
    "\n",
    "ranges = ['0-5Y','5Y-10Y','10Y-15Y','15Y-20Y','20Y-25Y','25Y-30Y','30Y-35Y','35Y-40Y','40Y-45Y','45Y-50Y'\n",
    "          ,'50Y-65Y','Above 65Y']\n",
    "\n",
    "app_score_col_rmvd['DAYS_EMPLOYED_RANGE'] = pd.cut(app_score_col_rmvd['DAYS_EMPLOYED'],bins,labels=ranges)"
   ]
  },
  {
   "cell_type": "code",
   "execution_count": null,
   "id": "379dc0ab-a626-42f1-a375-d5356395501a",
   "metadata": {},
   "outputs": [],
   "source": [
    "app_score_col_rmvd.groupby(['DAYS_EMPLOYED_RANGE'],observed=False).size()"
   ]
  },
  {
   "cell_type": "code",
   "execution_count": null,
   "id": "37a34b6f-d7df-4266-b153-61c20afdf114",
   "metadata": {},
   "outputs": [],
   "source": [
    "app_score_col_rmvd['DAYS_BIRTH'].quantile([0.1,0.2,0.3,0.4,0.5,0.6,0.7,0.8,0.81,0.85,0.9,0.95,0.99])"
   ]
  },
  {
   "cell_type": "code",
   "execution_count": null,
   "id": "e1740e51-88ff-4076-b026-b17b52ec4c3d",
   "metadata": {},
   "outputs": [],
   "source": [
    "app_score_col_rmvd['DAYS_BIRTH'].min()"
   ]
  },
  {
   "cell_type": "code",
   "execution_count": null,
   "id": "2dd230a7-b63c-4f9f-ac08-e8643ff31ea3",
   "metadata": {},
   "outputs": [],
   "source": [
    "bins = [0,7300,10950,14600,18250,21900,25229]\n",
    "\n",
    "ranges = ['20Y','20Y-30Y','30Y-40Y','40Y-50Y','50Y-60Y','Above 60Y']\n",
    "\n",
    "app_score_col_rmvd['DAYS_BIRTH_RANGE'] = pd.cut(app_score_col_rmvd['DAYS_BIRTH'],bins,labels=ranges)"
   ]
  },
  {
   "cell_type": "code",
   "execution_count": null,
   "id": "c39a7dde-123b-46fc-8953-ad58b1d6ba1e",
   "metadata": {},
   "outputs": [],
   "source": [
    "app_score_col_rmvd.groupby(['DAYS_BIRTH_RANGE'], observed=False).size()"
   ]
  },
  {
   "cell_type": "code",
   "execution_count": null,
   "id": "f64d5692-f8a3-4f02-a3ab-b4b3ffb788d3",
   "metadata": {},
   "outputs": [],
   "source": [
    "app_score_col_rmvd['DAYS_BIRTH'].isnull().sum()"
   ]
  },
  {
   "cell_type": "code",
   "execution_count": null,
   "id": "e130866a-8149-44f8-951c-cf2fdb8ed837",
   "metadata": {},
   "outputs": [],
   "source": [
    "# Data Analysis"
   ]
  },
  {
   "cell_type": "code",
   "execution_count": null,
   "id": "7cb5d844-0b24-44ad-8eaf-ff12bb42bd09",
   "metadata": {},
   "outputs": [],
   "source": [
    "app_score_col_rmvd.dtypes.value_counts()"
   ]
  },
  {
   "cell_type": "code",
   "execution_count": null,
   "id": "1bf747db-8389-422f-ba6a-c244aa43ead1",
   "metadata": {},
   "outputs": [],
   "source": [
    "obj_var = app_score_col_rmvd.select_dtypes(include=['object']).columns\n",
    "obj_var"
   ]
  },
  {
   "cell_type": "code",
   "execution_count": null,
   "id": "fb935e0d-cff0-4445-9898-c427008e1a29",
   "metadata": {},
   "outputs": [],
   "source": [
    "app_score_col_rmvd.groupby(['NAME_CONTRACT_TYPE']).size()"
   ]
  },
  {
   "cell_type": "code",
   "execution_count": null,
   "id": "2b4e93b0-6513-412f-b2dd-f602eb79b0ca",
   "metadata": {},
   "outputs": [],
   "source": [
    "sns.countplot(data=app_score_col_rmvd,x='NAME_CONTRACT_TYPE',hue='TARGET')"
   ]
  },
  {
   "cell_type": "code",
   "execution_count": null,
   "id": "354f04db-0a60-4d47-ba92-130b696501b1",
   "metadata": {},
   "outputs": [],
   "source": [
    "data_pct = app_score_col_rmvd[['NAME_CONTRACT_TYPE','TARGET']].groupby(['NAME_CONTRACT_TYPE'], as_index=False).mean().sort_values(by='TARGET',ascending=False)"
   ]
  },
  {
   "cell_type": "code",
   "execution_count": null,
   "id": "05be7d02-57a9-426b-b381-9db2109f1336",
   "metadata": {},
   "outputs": [],
   "source": [
    "data_pct"
   ]
  },
  {
   "cell_type": "code",
   "execution_count": null,
   "id": "da5232b2-1dba-4fa9-a36d-99aaa07dc266",
   "metadata": {},
   "outputs": [],
   "source": [
    "data_pct['PCT'] = data_pct['TARGET']*100"
   ]
  },
  {
   "cell_type": "code",
   "execution_count": null,
   "id": "0a63fefa-4b8f-4a54-a53d-6111b5e29e25",
   "metadata": {},
   "outputs": [],
   "source": [
    "data_pct"
   ]
  },
  {
   "cell_type": "code",
   "execution_count": null,
   "id": "83f04b4b-295e-41fd-9264-96a769d5cf37",
   "metadata": {},
   "outputs": [],
   "source": [
    "sns.barplot(data=data_pct,x='NAME_CONTRACT_TYPE',y='PCT')"
   ]
  },
  {
   "cell_type": "code",
   "execution_count": null,
   "id": "2ed0e08a-c0f6-47c9-bea2-48cf156f266a",
   "metadata": {},
   "outputs": [],
   "source": [
    "plt.figure(figsize=(10,5))\n",
    "\n",
    "plt.subplot(1,2,1)\n",
    "sns.countplot(data=app_score_col_rmvd,x='NAME_CONTRACT_TYPE',hue='TARGET')\n",
    "\n",
    "plt.subplot(1,2,2)\n",
    "sns.barplot(data=data_pct,x='NAME_CONTRACT_TYPE',y='PCT')"
   ]
  },
  {
   "cell_type": "code",
   "execution_count": null,
   "id": "143d7d54-8623-4100-adc3-a641c64c88df",
   "metadata": {},
   "outputs": [],
   "source": [
    "obj_var"
   ]
  },
  {
   "cell_type": "code",
   "execution_count": null,
   "id": "682fe8f8-6ec9-40e0-9786-6f6494140e18",
   "metadata": {},
   "outputs": [],
   "source": [
    "plt.figure(figsize=(25, 60))\n",
    "\n",
    "for i, var in enumerate(obj_var):\n",
    "    data_pct = app_score_col_rmvd[[var, 'TARGET']].groupby([var], as_index=False).mean().sort_values(by='TARGET', ascending=False)\n",
    "    data_pct['PCT'] = data_pct['TARGET'] * 100\n",
    "\n",
    "    plt.subplot(10, 2, i + i + 1)\n",
    "    plt.subplots_adjust(wspace=0.1, hspace=1)\n",
    "    sns.countplot(data=app_score_col_rmvd, x=var, hue='TARGET')\n",
    "    plt.xticks(rotation=90)\n",
    "\n",
    "    plt.subplot(10, 2, i + i + 2)\n",
    "    sns.barplot(data=data_pct, x=var, y='PCT', hue=var, palette='coolwarm', dodge=False, legend=False)\n",
    "    plt.xticks(rotation=90)\n",
    "\n",
    "# plt.show()\n"
   ]
  },
  {
   "cell_type": "code",
   "execution_count": null,
   "id": "5cf5b9cc-0cc0-43ac-b2c4-037eedf42c84",
   "metadata": {},
   "outputs": [],
   "source": [
    "app_score_col_rmvd['NAME_EDUCATION_TYPE'].unique()"
   ]
  },
  {
   "cell_type": "code",
   "execution_count": null,
   "id": "0723d86d-ff19-4c3f-bd9b-5ad9d762b3e2",
   "metadata": {},
   "outputs": [],
   "source": [
    "app_score_col_rmvd.dtypes.value_counts()"
   ]
  },
  {
   "cell_type": "code",
   "execution_count": null,
   "id": "0c2ccd37-2afa-4718-8d09-160a11d762d1",
   "metadata": {},
   "outputs": [],
   "source": [
    "num_var = app_score_col_rmvd.select_dtypes(include=['float64','int64']).columns\n",
    "num_cat_var = app_score_col_rmvd.select_dtypes(include=['float64','int64','category']).columns\n",
    "len(num_var)"
   ]
  },
  {
   "cell_type": "code",
   "execution_count": null,
   "id": "075291a5-ae49-487d-a918-f6a0aa9af887",
   "metadata": {},
   "outputs": [],
   "source": [
    "num_data = app_score_col_rmvd[num_var]\n",
    "defaulters = num_data[num_data['TARGET']==1]\n",
    "repayers = num_data[num_data['TARGET']==0]\n",
    "repayers.head()"
   ]
  },
  {
   "cell_type": "code",
   "execution_count": null,
   "id": "c31c21d8-47af-42aa-9e13-739c62b863bf",
   "metadata": {},
   "outputs": [],
   "source": [
    "defaulters[['SK_ID_CURR','CNT_CHILDREN','AMT_INCOME_TOTAL']].corr()"
   ]
  },
  {
   "cell_type": "code",
   "execution_count": null,
   "id": "19eacfd5-e2a5-4677-af35-6ccd58ddf6b2",
   "metadata": {},
   "outputs": [],
   "source": [
    "defaulter_corr = defaulters.corr()\n",
    "defaulter_corr_unstck = defaulter_corr.where(np.triu(np.ones(defaulter_corr.shape),k=1).astype(np.bool)).unstack().reset_index().rename(columns={'level_0':'var1'\n",
    "                                                                                                                        ,'level_1':'var2'\n",
    "                                                                                                                        ,0:'corr'})\n",
    "defaulter_corr_unstck['corr'] = abs(defaulter_corr_unstck['corr'])\n",
    "defaulter_corr_unstck.dropna(subset=['corr']).sort_values(by=['corr'],ascending=False).head(10)"
   ]
  },
  {
   "cell_type": "code",
   "execution_count": null,
   "id": "5281e689-7faa-4424-bc52-da046bbf808c",
   "metadata": {},
   "outputs": [],
   "source": [
    "repayers_corr = repayers.corr()\n",
    "repayers_corr_unstck = repayers_corr.where(np.triu(np.ones(repayers_corr.shape),k=1).astype(np.bool)).unstack().reset_index().rename(columns={'level_0':'var1'\n",
    "                                                                                                                        ,'level_1':'var2'\n",
    "                                                                                                                        ,0:'corr'})\n",
    "repayers_corr_unstck['corr'] = abs(repayers_corr_unstck['corr'])\n",
    "repayers_corr_unstck.dropna(subset=['corr']).sort_values(by=['corr'],ascending=False).head(10)"
   ]
  },
  {
   "cell_type": "code",
   "execution_count": null,
   "id": "2f50db50-831c-4ad8-9cd8-bc03d182d262",
   "metadata": {},
   "outputs": [],
   "source": [
    "num_data.head()"
   ]
  },
  {
   "cell_type": "code",
   "execution_count": null,
   "id": "ac808f76-bcb5-46d9-96c4-3caea82b4a92",
   "metadata": {},
   "outputs": [],
   "source": [
    "amt_var = ['AMT_INCOME_TOTAL','AMT_CREDIT','AMT_ANNUITY','AMT_GOODS_PRICE']"
   ]
  },
  {
   "cell_type": "code",
   "execution_count": null,
   "id": "459d6fe8-8d8a-422b-9d9c-3cd2b0c669a5",
   "metadata": {},
   "outputs": [],
   "source": [
    "sns.kdeplot(data=num_data,x='AMT_CREDIT',hue='TARGET')"
   ]
  },
  {
   "cell_type": "code",
   "execution_count": null,
   "id": "00ca0c0c-de10-4898-884a-d581274fc279",
   "metadata": {},
   "outputs": [],
   "source": [
    "plt.figure(figsize=(10,5))\n",
    "\n",
    "for i, col in enumerate(amt_var):\n",
    "    plt.subplot(2,2,i+1)\n",
    "    sns.kdeplot(data=num_data,x=col,hue='TARGET')\n",
    "    plt.subplots_adjust(wspace=0.5,hspace=0.5)"
   ]
  },
  {
   "cell_type": "code",
   "execution_count": null,
   "id": "80f86d0e-4909-4126-88c9-9dbafae2566e",
   "metadata": {},
   "outputs": [],
   "source": [
    "num_data.head()"
   ]
  },
  {
   "cell_type": "code",
   "execution_count": null,
   "id": "302a2b84-69ab-4fc2-befd-c867f02a2a39",
   "metadata": {},
   "outputs": [],
   "source": [
    "sns.scatterplot(data=num_data,x='AMT_CREDIT',y='CNT_CHILDREN',hue='TARGET')"
   ]
  },
  {
   "cell_type": "code",
   "execution_count": null,
   "id": "52da5f71-836e-4b07-bbdd-ce4a0dd1186b",
   "metadata": {},
   "outputs": [],
   "source": [
    "amt_var = num_data[['AMT_INCOME_TOTAL','AMT_CREDIT','AMT_ANNUITY','AMT_GOODS_PRICE','TARGET']]"
   ]
  },
  {
   "cell_type": "code",
   "execution_count": null,
   "id": "2d336147-b554-44b7-9bb4-e5351fd74bfa",
   "metadata": {},
   "outputs": [],
   "source": [
    "sns.pairplot(data=amt_var,hue='TARGET')"
   ]
  },
  {
   "cell_type": "code",
   "execution_count": null,
   "id": "64a12ff3-a26c-4224-8fff-681299f3bb25",
   "metadata": {},
   "outputs": [],
   "source": [
    "null_count = pd.DataFrame(prev_app.isnull().sum().sort_values(ascending=False)/prev_app.shape[0]*100).reset_index().rename(columns={'index':'var',\n",
    "                                                                                                                                   0:'count_pct'})\n",
    "var_msng_ge_40 = list(null_count[null_count['count_pct']>=40]['var'])\n",
    "var_msng_ge_40"
   ]
  },
  {
   "cell_type": "code",
   "execution_count": null,
   "id": "158aa224-04de-4eab-a37f-f34a98a89e00",
   "metadata": {},
   "outputs": [],
   "source": [
    "nva_cols = var_msng_ge_40+['WEEKDAY_APPR_PROCESS_START','HOUR_APPR_PROCESS_START','FLAG_LAST_APPL_PER_CONTRACT','NFLAG_LAST_APPL_IN_DAY']\n",
    "len(nva_cols)"
   ]
  },
  {
   "cell_type": "code",
   "execution_count": null,
   "id": "21a77d94-4f06-4a1d-8ca6-c3e49d809166",
   "metadata": {},
   "outputs": [],
   "source": [
    "len(prev_app.columns)"
   ]
  },
  {
   "cell_type": "code",
   "execution_count": null,
   "id": "6f356c04-cfeb-4de9-8845-c7a5d550a690",
   "metadata": {},
   "outputs": [],
   "source": [
    "prev_app_nva_col_rmvd = prev_app.drop(labels=nva_cols,axis=1)\n",
    "\n",
    "\n",
    "len(prev_app_nva_col_rmvd.columns)\n"
   ]
  },
  {
   "cell_type": "code",
   "execution_count": null,
   "id": "3fb0c4f7-816a-42a4-9bd7-5ed029b8d963",
   "metadata": {},
   "outputs": [],
   "source": [
    "prev_app_nva_col_rmvd.columns"
   ]
  },
  {
   "cell_type": "code",
   "execution_count": null,
   "id": "0ec58140-cddb-487e-8b89-3193240f0bab",
   "metadata": {},
   "outputs": [],
   "source": [
    "prev_app_nva_col_rmvd.head()"
   ]
  },
  {
   "cell_type": "code",
   "execution_count": null,
   "id": "959d5d48-fd29-41b7-acb5-87acecee7192",
   "metadata": {},
   "outputs": [],
   "source": [
    "prev_app_nva_col_rmvd.isnull().sum().sort_values(ascending=False)/prev_app_nva_col_rmvd.shape[0]*100"
   ]
  },
  {
   "cell_type": "code",
   "execution_count": null,
   "id": "c5ec6115-48e0-4473-b0c4-0505a1885986",
   "metadata": {},
   "outputs": [],
   "source": [
    "prev_app_nva_col_rmvd['AMT_GOODS_PRICE'].agg(func=['mean','median'])"
   ]
  },
  {
   "cell_type": "code",
   "execution_count": null,
   "id": "6435b666-03d8-4986-b8db-245794dccac6",
   "metadata": {},
   "outputs": [],
   "source": [
    "prev_app_nva_col_rmvd['AMT_GOODS_PRICE_MEDIAN'] = prev_app_nva_col_rmvd['AMT_GOODS_PRICE'].fillna(prev_app_nva_col_rmvd['AMT_GOODS_PRICE'].median())"
   ]
  },
  {
   "cell_type": "code",
   "execution_count": null,
   "id": "11726dc1-48da-4ad6-b8a5-0b172e32101c",
   "metadata": {},
   "outputs": [],
   "source": [
    "prev_app_nva_col_rmvd['AMT_GOODS_PRICE_MEAN'] = prev_app_nva_col_rmvd['AMT_GOODS_PRICE'].fillna(prev_app_nva_col_rmvd['AMT_GOODS_PRICE'].mean())"
   ]
  },
  {
   "cell_type": "code",
   "execution_count": null,
   "id": "311d2586-a993-4948-bccb-f5727ea777a4",
   "metadata": {},
   "outputs": [],
   "source": [
    "prev_app_nva_col_rmvd['AMT_GOODS_PRICE_MODE'] = prev_app_nva_col_rmvd['AMT_GOODS_PRICE'].fillna(prev_app_nva_col_rmvd['AMT_GOODS_PRICE'].mode()[0])"
   ]
  },
  {
   "cell_type": "code",
   "execution_count": null,
   "id": "49dd9f90-8d87-4592-9bb2-25499bfef229",
   "metadata": {},
   "outputs": [],
   "source": [
    "gp_cols = ['AMT_GOODS_PRICE','AMT_GOODS_PRICE_MEDIAN','AMT_GOODS_PRICE_MEAN','AMT_GOODS_PRICE_MODE']"
   ]
  },
  {
   "cell_type": "code",
   "execution_count": null,
   "id": "10a73960-77c8-4a24-83a2-f53b2ad28ade",
   "metadata": {},
   "outputs": [],
   "source": [
    "plt.figure(figsize=(10,5))\n",
    "\n",
    "for i, col in enumerate(gp_cols):\n",
    "    plt.subplot(2,2,i+1)\n",
    "    sns.kdeplot(data=prev_app_nva_col_rmvd, x=col)\n",
    "    plt.subplots_adjust(wspace=0.5,hspace=0.5)"
   ]
  },
  {
   "cell_type": "code",
   "execution_count": null,
   "id": "679d2c4a-a098-4747-b10b-e6e2356a9e49",
   "metadata": {},
   "outputs": [],
   "source": [
    "prev_app_nva_col_rmvd['AMT_GOODS_PRICE'] = prev_app_nva_col_rmvd['AMT_GOODS_PRICE'].fillna(prev_app_nva_col_rmvd['AMT_GOODS_PRICE'].median())"
   ]
  },
  {
   "cell_type": "code",
   "execution_count": null,
   "id": "192b3796-844a-4a44-9e01-e63d6b08fede",
   "metadata": {},
   "outputs": [],
   "source": [
    "prev_app_nva_col_rmvd['AMT_GOODS_PRICE'].isnull().sum()"
   ]
  },
  {
   "cell_type": "code",
   "execution_count": null,
   "id": "cb96d721-5a21-4ee1-b0f2-032e8a783dec",
   "metadata": {},
   "outputs": [],
   "source": [
    "prev_app_nva_col_rmvd['AMT_ANNUITY'].agg(func=['mean','median','max'])"
   ]
  },
  {
   "cell_type": "code",
   "execution_count": null,
   "id": "79851cb4-3ec7-4f85-b5c7-344604c51c07",
   "metadata": {},
   "outputs": [],
   "source": [
    "prev_app_nva_col_rmvd['AMT_ANNUITY'] = prev_app_nva_col_rmvd['AMT_ANNUITY'].fillna(prev_app_nva_col_rmvd['AMT_ANNUITY'].median())"
   ]
  },
  {
   "cell_type": "code",
   "execution_count": null,
   "id": "78d7bc42-ef61-4fa9-aa09-6db9b1f3ab4b",
   "metadata": {},
   "outputs": [],
   "source": [
    "prev_app_nva_col_rmvd['PRODUCT_COMBINATION'] = prev_app_nva_col_rmvd['PRODUCT_COMBINATION'].fillna(prev_app_nva_col_rmvd['PRODUCT_COMBINATION'].mode()[0])"
   ]
  },
  {
   "cell_type": "code",
   "execution_count": null,
   "id": "9aeb46a7-636f-4e60-aa27-54ec11197389",
   "metadata": {},
   "outputs": [],
   "source": [
    "prev_app_nva_col_rmvd['CNT_PAYMENT'].agg(func=['mean','median','max'])"
   ]
  },
  {
   "cell_type": "code",
   "execution_count": null,
   "id": "73a23712-0f14-4353-8cef-0c5a0d19d261",
   "metadata": {},
   "outputs": [],
   "source": [
    "prev_app_nva_col_rmvd[prev_app_nva_col_rmvd['CNT_PAYMENT'].isnull()].groupby(['NAME_CONTRACT_STATUS']).size().sort_values(ascending=False)"
   ]
  },
  {
   "cell_type": "code",
   "execution_count": null,
   "id": "2b56a801-f3f3-43cb-8c73-68a0acab6228",
   "metadata": {},
   "outputs": [],
   "source": [
    "prev_app_nva_col_rmvd['CNT_PAYMENT'] = prev_app_nva_col_rmvd['CNT_PAYMENT'].fillna(0)"
   ]
  },
  {
   "cell_type": "code",
   "execution_count": null,
   "id": "45407d87-d044-432b-b9f2-eda31bdc552b",
   "metadata": {},
   "outputs": [],
   "source": [
    "prev_app_nva_col_rmvd.isnull().sum().sort_values(ascending=False)"
   ]
  },
  {
   "cell_type": "code",
   "execution_count": null,
   "id": "040caa93-74f3-45c9-bed3-1616ec03404e",
   "metadata": {},
   "outputs": [],
   "source": [
    "prev_app_nva_col_rmvd = prev_app_nva_col_rmvd.drop(labels=['AMT_GOODS_PRICE_MEDIAN','AMT_GOODS_PRICE_MEAN','AMT_GOODS_PRICE_MODE'],axis=1)"
   ]
  },
  {
   "cell_type": "code",
   "execution_count": null,
   "id": "7e7f91cc-eaa6-4867-be1e-f36fdc1f3bcf",
   "metadata": {},
   "outputs": [],
   "source": [
    "prev_app_nva_col_rmvd.isnull().sum().sort_values(ascending=False)"
   ]
  },
  {
   "cell_type": "code",
   "execution_count": null,
   "id": "e9803e87-38c4-4f20-92fc-0252185e10fe",
   "metadata": {},
   "outputs": [],
   "source": [
    "len(prev_app_nva_col_rmvd.columns)"
   ]
  },
  {
   "cell_type": "code",
   "execution_count": null,
   "id": "5096554c-b5f3-4eed-b8b2-728b78ac7b37",
   "metadata": {},
   "outputs": [],
   "source": [
    "prev_app_nva_col_rmvd.head()"
   ]
  },
  {
   "cell_type": "code",
   "execution_count": null,
   "id": "bd7be79b-8039-4e02-b17c-dfad293f51a5",
   "metadata": {},
   "outputs": [],
   "source": [
    "merged_df = pd.merge(app_score_col_rmvd,prev_app_nva_col_rmvd,how='inner',on='SK_ID_CURR')\n",
    "merged_df.head()"
   ]
  },
  {
   "cell_type": "code",
   "execution_count": null,
   "id": "747e8d7b-f2f4-4318-8c20-aa959ad8a7d4",
   "metadata": {},
   "outputs": [],
   "source": [
    "plt.figure(figsize=(15,5))\n",
    "\n",
    "sns.countplot(data=merged_df,x='NAME_CASH_LOAN_PURPOSE',hue='NAME_CONTRACT_STATUS')\n",
    "plt.xticks(rotation=90)\n",
    "plt.yscale('log')"
   ]
  },
  {
   "cell_type": "code",
   "execution_count": null,
   "id": "5c707999-4015-4ca9-bea7-205108453d62",
   "metadata": {},
   "outputs": [],
   "source": [
    "sns.countplot(data=merged_df,x='NAME_CONTRACT_STATUS',hue='TARGET')"
   ]
  },
  {
   "cell_type": "code",
   "execution_count": null,
   "id": "f13ff52c-5e31-40df-b37d-d6a2707d45bc",
   "metadata": {},
   "outputs": [],
   "source": [
    "merged_agg = merged_df.groupby(['NAME_CONTRACT_STATUS','TARGET']).size().reset_index().rename(columns={0:'counts'})\n",
    "sum_df  = merged_agg.groupby(['NAME_CONTRACT_STATUS'])['counts'].sum().reset_index()\n",
    "\n",
    "merged_agg_2 = pd.merge(merged_agg,sum_df,how='left',on='NAME_CONTRACT_STATUS')\n",
    "merged_agg_2['pct'] = round(merged_agg_2['counts_x']/merged_agg_2['counts_y']*100,2)\n",
    "merged_agg_2"
   ]
  },
  {
   "cell_type": "code",
   "execution_count": null,
   "id": "f1c4a477-fb3d-4f68-8f62-debd9fff7d00",
   "metadata": {},
   "outputs": [],
   "source": [
    "sns.lineplot(data=merged_df,x='NAME_CONTRACT_STATUS',y='AMT_INCOME_TOTAL',errorbar=None,hue='TARGET')"
   ]
  },
  {
   "cell_type": "code",
   "execution_count": null,
   "id": "5e11c3e6-1857-4e32-af7d-b3a443deb1da",
   "metadata": {},
   "outputs": [],
   "source": [
    "len(merged_df.columns)"
   ]
  },
  {
   "cell_type": "code",
   "execution_count": null,
   "id": "d677e7d5-2efd-4b6d-9c67-29309dd0e404",
   "metadata": {},
   "outputs": [],
   "source": []
  }
 ],
 "metadata": {
  "kernelspec": {
   "display_name": "Python 3 (ipykernel)",
   "language": "python",
   "name": "python3"
  },
  "language_info": {
   "codemirror_mode": {
    "name": "ipython",
    "version": 3
   },
   "file_extension": ".py",
   "mimetype": "text/x-python",
   "name": "python",
   "nbconvert_exporter": "python",
   "pygments_lexer": "ipython3",
   "version": "3.12.4"
  }
 },
 "nbformat": 4,
 "nbformat_minor": 5
}
